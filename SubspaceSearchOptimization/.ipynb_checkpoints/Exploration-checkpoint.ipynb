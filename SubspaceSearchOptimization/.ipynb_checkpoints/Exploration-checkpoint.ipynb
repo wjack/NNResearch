{
 "cells": [
  {
   "cell_type": "code",
   "execution_count": 2,
   "metadata": {
    "collapsed": true
   },
   "outputs": [],
   "source": [
    "import argparse\n",
    "import torch\n",
    "import torch.nn as nn\n",
    "import torch.nn.functional as F\n",
    "import torch.optim as optim\n",
    "from torchvision import datasets, transforms\n",
    "from torch.autograd import Variable\n",
    "import numpy as np \n",
    "import pandas as pd\n",
    "from sklearn.decomposition import PCA"
   ]
  },
  {
   "cell_type": "markdown",
   "metadata": {},
   "source": [
    "## Goal\n",
    "Analyze the space in which the updates to the parameters of a neural network occur. If the parameter updates are occur in predominantly a linear subspace, explore that accordingly. "
   ]
  },
  {
   "cell_type": "code",
   "execution_count": 3,
   "metadata": {
    "collapsed": true
   },
   "outputs": [],
   "source": [
    "class Net(nn.Module):\n",
    "    def __init__(self):\n",
    "        super(Net, self).__init__()\n",
    "        self.conv1 = nn.Conv2d(1, 10, kernel_size=5)\n",
    "        self.conv2 = nn.Conv2d(10, 20, kernel_size=5)\n",
    "        self.conv2_drop = nn.Dropout2d()\n",
    "        self.fc1 = nn.Linear(320, 50)\n",
    "        self.fc2 = nn.Linear(50, 10)\n",
    "\n",
    "    def forward(self, x):\n",
    "        x = F.relu(F.max_pool2d(self.conv1(x), 2))\n",
    "        x = F.relu(F.max_pool2d(self.conv2_drop(self.conv2(x)), 2))\n",
    "        x = x.view(-1, 320)\n",
    "        x = F.relu(self.fc1(x))\n",
    "        x = F.dropout(x, training=self.training)\n",
    "        x = self.fc2(x)\n",
    "        return F.log_softmax(x)"
   ]
  },
  {
   "cell_type": "code",
   "execution_count": 4,
   "metadata": {
    "collapsed": false
   },
   "outputs": [],
   "source": [
    "batch_size = 64\n",
    "train_loader = torch.utils.data.DataLoader(\n",
    "    datasets.MNIST('../data', train=True, download=True,\n",
    "                   transform=transforms.Compose([\n",
    "                       transforms.ToTensor(),\n",
    "                       transforms.Normalize((0.1307,), (0.3081,))\n",
    "                   ])), batch_size=batch_size, shuffle=True)"
   ]
  },
  {
   "cell_type": "code",
   "execution_count": 5,
   "metadata": {
    "collapsed": true
   },
   "outputs": [],
   "source": [
    "test_batch_size = 1000\n",
    "test_loader = torch.utils.data.DataLoader(\n",
    "    datasets.MNIST('../data', train=False, transform=transforms.Compose([\n",
    "                       transforms.ToTensor(),\n",
    "                       transforms.Normalize((0.1307,), (0.3081,))\n",
    "                   ])),\n",
    "    batch_size=test_batch_size, shuffle=True)"
   ]
  },
  {
   "cell_type": "code",
   "execution_count": 6,
   "metadata": {
    "collapsed": true
   },
   "outputs": [],
   "source": [
    "model = Net()"
   ]
  },
  {
   "cell_type": "code",
   "execution_count": 7,
   "metadata": {
    "collapsed": true
   },
   "outputs": [],
   "source": [
    "lr = .01\n",
    "momentum = .5\n",
    "optimizer = optim.SGD(model.parameters(), lr=lr, momentum=.5)"
   ]
  },
  {
   "cell_type": "code",
   "execution_count": 8,
   "metadata": {
    "collapsed": true
   },
   "outputs": [],
   "source": [
    "def get_param_vec(model): # compiles parameter of model into a vector\n",
    "    params = np.array([])\n",
    "    for p in list(model.parameters()):\n",
    "        d = p.data.view(-1).numpy()\n",
    "        params = np.concatenate([params, d])\n",
    "    return params"
   ]
  },
  {
   "cell_type": "code",
   "execution_count": 9,
   "metadata": {
    "collapsed": true
   },
   "outputs": [],
   "source": [
    "log_interval = 200\n",
    "def train(epoch, param_log):\n",
    "    model.train()\n",
    "    for batch_idx, (data, target) in enumerate(train_loader):\n",
    "        params = get_param_vec(model)\n",
    "        param_log += [params]\n",
    "        data, target = Variable(data), Variable(target)\n",
    "        optimizer.zero_grad()\n",
    "        output = model(data)\n",
    "        loss = F.nll_loss(output, target)\n",
    "        loss.backward()\n",
    "        optimizer.step()\n",
    "        if batch_idx % log_interval == 0:\n",
    "            print('Train Epoch: {} [{}/{} ({:.0f}%)]\\tLoss: {:.6f}'.format(\n",
    "                epoch, batch_idx * len(data), len(train_loader.dataset),\n",
    "                100. * batch_idx / len(train_loader), loss.data[0]))\n",
    "    return param_log, loss.data[0]\n",
    "\n",
    "def test():\n",
    "    model.eval()\n",
    "    test_loss = 0\n",
    "    correct = 0\n",
    "    for data, target in test_loader:\n",
    "        data, target = Variable(data, volatile=True), Variable(target)\n",
    "        output = model(data)\n",
    "        test_loss += F.nll_loss(output, target, size_average=False).data[0] # sum up batch loss\n",
    "        pred = output.data.max(1, keepdim=True)[1] # get the index of the max log-probability\n",
    "        correct += pred.eq(target.data.view_as(pred)).cpu().sum()\n",
    "\n",
    "    test_loss /= len(test_loader.dataset)\n",
    "    print('\\nTest set: Average loss: {:.4f}, Accuracy: {}/{} ({:.0f}%)\\n'.format(\n",
    "        test_loss, correct, len(test_loader.dataset),\n",
    "        100. * correct / len(test_loader.dataset)))"
   ]
  },
  {
   "cell_type": "code",
   "execution_count": 11,
   "metadata": {
    "collapsed": false
   },
   "outputs": [
    {
     "name": "stdout",
     "output_type": "stream",
     "text": [
      "Train Epoch: 1 [0/60000 (0%)]\tLoss: 0.239967\n",
      "Train Epoch: 1 [12800/60000 (21%)]\tLoss: 0.258201\n",
      "Train Epoch: 1 [25600/60000 (43%)]\tLoss: 0.201252\n",
      "Train Epoch: 1 [38400/60000 (64%)]\tLoss: 0.117458\n",
      "Train Epoch: 1 [51200/60000 (85%)]\tLoss: 0.154526\n",
      "\n",
      "Test set: Average loss: 0.0842, Accuracy: 9724/10000 (97%)\n",
      "\n",
      "Train Epoch: 2 [0/60000 (0%)]\tLoss: 0.224287\n",
      "Train Epoch: 2 [12800/60000 (21%)]\tLoss: 0.168758\n",
      "Train Epoch: 2 [25600/60000 (43%)]\tLoss: 0.178721\n",
      "Train Epoch: 2 [38400/60000 (64%)]\tLoss: 0.214553\n",
      "Train Epoch: 2 [51200/60000 (85%)]\tLoss: 0.142213\n",
      "\n",
      "Test set: Average loss: 0.0762, Accuracy: 9773/10000 (98%)\n",
      "\n",
      "Train Epoch: 3 [0/60000 (0%)]\tLoss: 0.134307\n",
      "Train Epoch: 3 [12800/60000 (21%)]\tLoss: 0.361539\n",
      "Train Epoch: 3 [25600/60000 (43%)]\tLoss: 0.197478\n",
      "Train Epoch: 3 [38400/60000 (64%)]\tLoss: 0.187322\n",
      "Train Epoch: 3 [51200/60000 (85%)]\tLoss: 0.244935\n",
      "\n",
      "Test set: Average loss: 0.0653, Accuracy: 9786/10000 (98%)\n",
      "\n",
      "Train Epoch: 4 [0/60000 (0%)]\tLoss: 0.177905\n",
      "Train Epoch: 4 [12800/60000 (21%)]\tLoss: 0.098674\n",
      "Train Epoch: 4 [25600/60000 (43%)]\tLoss: 0.250493\n",
      "Train Epoch: 4 [38400/60000 (64%)]\tLoss: 0.156779\n",
      "Train Epoch: 4 [51200/60000 (85%)]\tLoss: 0.084185\n",
      "\n",
      "Test set: Average loss: 0.0642, Accuracy: 9809/10000 (98%)\n",
      "\n",
      "Train Epoch: 5 [0/60000 (0%)]\tLoss: 0.094555\n",
      "Train Epoch: 5 [12800/60000 (21%)]\tLoss: 0.153236\n",
      "Train Epoch: 5 [25600/60000 (43%)]\tLoss: 0.216570\n",
      "Train Epoch: 5 [38400/60000 (64%)]\tLoss: 0.134836\n",
      "Train Epoch: 5 [51200/60000 (85%)]\tLoss: 0.070001\n",
      "\n",
      "Test set: Average loss: 0.0556, Accuracy: 9833/10000 (98%)\n",
      "\n",
      "Train Epoch: 6 [0/60000 (0%)]\tLoss: 0.087994\n",
      "Train Epoch: 6 [12800/60000 (21%)]\tLoss: 0.218024\n",
      "Train Epoch: 6 [25600/60000 (43%)]\tLoss: 0.112089\n",
      "Train Epoch: 6 [38400/60000 (64%)]\tLoss: 0.165019\n",
      "Train Epoch: 6 [51200/60000 (85%)]\tLoss: 0.224461\n",
      "\n",
      "Test set: Average loss: 0.0537, Accuracy: 9823/10000 (98%)\n",
      "\n",
      "Train Epoch: 7 [0/60000 (0%)]\tLoss: 0.235106\n",
      "Train Epoch: 7 [12800/60000 (21%)]\tLoss: 0.186467\n",
      "Train Epoch: 7 [25600/60000 (43%)]\tLoss: 0.141567\n",
      "Train Epoch: 7 [38400/60000 (64%)]\tLoss: 0.204751\n",
      "Train Epoch: 7 [51200/60000 (85%)]\tLoss: 0.223127\n",
      "\n",
      "Test set: Average loss: 0.0483, Accuracy: 9845/10000 (98%)\n",
      "\n",
      "Train Epoch: 8 [0/60000 (0%)]\tLoss: 0.121914\n",
      "Train Epoch: 8 [12800/60000 (21%)]\tLoss: 0.355824\n",
      "Train Epoch: 8 [25600/60000 (43%)]\tLoss: 0.110312\n",
      "Train Epoch: 8 [38400/60000 (64%)]\tLoss: 0.077028\n",
      "Train Epoch: 8 [51200/60000 (85%)]\tLoss: 0.138623\n",
      "\n",
      "Test set: Average loss: 0.0473, Accuracy: 9843/10000 (98%)\n",
      "\n",
      "Train Epoch: 9 [0/60000 (0%)]\tLoss: 0.040816\n",
      "Train Epoch: 9 [12800/60000 (21%)]\tLoss: 0.280912\n",
      "Train Epoch: 9 [25600/60000 (43%)]\tLoss: 0.051898\n",
      "Train Epoch: 9 [38400/60000 (64%)]\tLoss: 0.129652\n",
      "Train Epoch: 9 [51200/60000 (85%)]\tLoss: 0.327094\n",
      "\n",
      "Test set: Average loss: 0.0460, Accuracy: 9856/10000 (99%)\n",
      "\n",
      "Train Epoch: 10 [0/60000 (0%)]\tLoss: 0.276500\n",
      "Train Epoch: 10 [12800/60000 (21%)]\tLoss: 0.149154\n",
      "Train Epoch: 10 [25600/60000 (43%)]\tLoss: 0.123843\n",
      "Train Epoch: 10 [38400/60000 (64%)]\tLoss: 0.304025\n",
      "Train Epoch: 10 [51200/60000 (85%)]\tLoss: 0.102316\n",
      "\n",
      "Test set: Average loss: 0.0441, Accuracy: 9860/10000 (99%)\n",
      "\n"
     ]
    }
   ],
   "source": [
    "epochs = 10\n",
    "param_log = []\n",
    "loss_log = []\n",
    "for epoch in range(1, epochs + 1):\n",
    "    param_log, loss = train(epoch, param_log)\n",
    "    loss_log += [loss]\n",
    "    test()\n",
    "param_log = np.array(param_log)"
   ]
  },
  {
   "cell_type": "code",
   "execution_count": 100,
   "metadata": {
    "collapsed": false
   },
   "outputs": [
    {
     "data": {
      "text/plain": [
       "PCA(copy=True, iterated_power='auto', n_components=20, random_state=None,\n",
       "  svd_solver='auto', tol=0.0, whiten=False)"
      ]
     },
     "execution_count": 100,
     "metadata": {},
     "output_type": "execute_result"
    }
   ],
   "source": [
    "all_updates_pca = PCA(n_components=20)\n",
    "all_updates_pca.fit(param_log)"
   ]
  },
  {
   "cell_type": "code",
   "execution_count": 101,
   "metadata": {
    "collapsed": false
   },
   "outputs": [
    {
     "data": {
      "text/plain": [
       "array([0.70824529, 0.08363491, 0.04197087, 0.02607979, 0.01890016,\n",
       "       0.01370586, 0.01075345, 0.00830717, 0.00705069, 0.00595524,\n",
       "       0.00491425, 0.00424971, 0.00372933, 0.00335381, 0.0029226 ,\n",
       "       0.00270802, 0.00237336, 0.00217015, 0.00206053, 0.00178469])"
      ]
     },
     "execution_count": 101,
     "metadata": {},
     "output_type": "execute_result"
    }
   ],
   "source": [
    "all_updates_pca.explained_variance_ratio_ # a 2D subspace of the gradient descent path contains ~90% of the variance"
   ]
  },
  {
   "cell_type": "code",
   "execution_count": 16,
   "metadata": {
    "collapsed": false
   },
   "outputs": [],
   "source": [
    "import matplotlib.pyplot as plt"
   ]
  },
  {
   "cell_type": "code",
   "execution_count": 104,
   "metadata": {
    "collapsed": false
   },
   "outputs": [],
   "source": [
    "#Seems that epoch to epoch, over the course of training, the actual breakdown of subspace dimensionality doesn't change\n",
    "c_1_variances = []\n",
    "c_2_variances = []\n",
    "c_3_variances = []\n",
    "c_4_variances = []\n",
    "for i in range(0, 20):\n",
    "    pca = PCA(n_components=20)\n",
    "    pca.fit(param_log[i*938 : (i+1)*938])\n",
    "    c_1_variances += [pca.explained_variance_ratio_[0]]\n",
    "    c_2_variances += [pca.explained_variance_ratio_[1]]\n",
    "    c_3_variances += [pca.explained_variance_ratio_[2]]\n",
    "    c_4_variances += [pca.explained_variance_ratio_[3]]"
   ]
  },
  {
   "cell_type": "code",
   "execution_count": 105,
   "metadata": {
    "collapsed": false
   },
   "outputs": [
    {
     "data": {
      "text/plain": [
       "[0.08136851694136409,\n",
       " 0.0792863327477974,\n",
       " 0.07695026130311601,\n",
       " 0.08684768291776465,\n",
       " 0.08209385239592347,\n",
       " 0.07821977830063676,\n",
       " 0.07911514199766428,\n",
       " 0.08290077421399276,\n",
       " 0.0825123882249565,\n",
       " 0.08159885976621233,\n",
       " 0.07977386393221947,\n",
       " 0.0862727624145706,\n",
       " 0.08055051204922296,\n",
       " 0.08208984104022939,\n",
       " 0.08027799991567701,\n",
       " 0.07983158256816002,\n",
       " 0.08578046941107006,\n",
       " 0.088559716907204,\n",
       " 0.08240555153996118,\n",
       " 0.08365741782988545]"
      ]
     },
     "execution_count": 105,
     "metadata": {},
     "output_type": "execute_result"
    }
   ],
   "source": [
    "c_3_variances"
   ]
  },
  {
   "cell_type": "code",
   "execution_count": 106,
   "metadata": {
    "collapsed": false
   },
   "outputs": [
    {
     "data": {
      "text/plain": [
       "[0.15860189512278788,\n",
       " 0.1505631853159727,\n",
       " 0.16877703156604124,\n",
       " 0.16174096114467393,\n",
       " 0.16721803083263123,\n",
       " 0.16879229920909175,\n",
       " 0.1766082876451552,\n",
       " 0.17548562173422136,\n",
       " 0.17342547627316593,\n",
       " 0.16467614856017274,\n",
       " 0.18303557796502323,\n",
       " 0.17265072451472477,\n",
       " 0.166643086004101,\n",
       " 0.16213554572313316,\n",
       " 0.16777361840295982,\n",
       " 0.1705283297812219,\n",
       " 0.17311936219097404,\n",
       " 0.15883396413017029,\n",
       " 0.17116828458016775,\n",
       " 0.17202785379070556]"
      ]
     },
     "execution_count": 106,
     "metadata": {},
     "output_type": "execute_result"
    }
   ],
   "source": [
    "c_2_variances"
   ]
  },
  {
   "cell_type": "code",
   "execution_count": 107,
   "metadata": {
    "collapsed": false
   },
   "outputs": [
    {
     "data": {
      "text/plain": [
       "[0.516801245234754,\n",
       " 0.5186387085255193,\n",
       " 0.5062369412297737,\n",
       " 0.5104149667233527,\n",
       " 0.5042752915879578,\n",
       " 0.49706744708784856,\n",
       " 0.49721837989585976,\n",
       " 0.4978015585759559,\n",
       " 0.5001979188577494,\n",
       " 0.5024769662547466,\n",
       " 0.49519064589405143,\n",
       " 0.4942309129095058,\n",
       " 0.5023554822055698,\n",
       " 0.5052237177047486,\n",
       " 0.5052381614704813,\n",
       " 0.5053039872814232,\n",
       " 0.49978140902610085,\n",
       " 0.5098537862432398,\n",
       " 0.5078925991437349,\n",
       " 0.49871751477315773]"
      ]
     },
     "execution_count": 107,
     "metadata": {},
     "output_type": "execute_result"
    }
   ],
   "source": [
    "c_1_variances\n"
   ]
  },
  {
   "cell_type": "code",
   "execution_count": 108,
   "metadata": {
    "collapsed": true
   },
   "outputs": [],
   "source": [
    "# Starting at epoch 5 and working out, how much variance is explained by each PC?\n",
    "# Can we transform our final optimization point onto the 2D subspace and see how it performs? \n",
    "# measure angle between the initial and final PC in gradient descent?\n",
    "\n"
   ]
  },
  {
   "cell_type": "code",
   "execution_count": 119,
   "metadata": {
    "collapsed": true
   },
   "outputs": [
    {
     "name": "stdout",
     "output_type": "stream",
     "text": [
      "0\n",
      "187\n",
      "374\n",
      "561\n",
      "748\n",
      "935\n",
      "1122\n",
      "1309\n",
      "1496\n",
      "1683\n",
      "1870\n",
      "2057\n",
      "2244\n",
      "2431\n",
      "2618\n",
      "2805\n",
      "2992\n",
      "3179\n",
      "3366\n",
      "3553\n",
      "3740\n",
      "3927\n",
      "4114\n",
      "4301\n",
      "4488\n",
      "4675\n",
      "4862\n",
      "5049\n",
      "5236\n",
      "5423\n",
      "5610\n",
      "5797\n",
      "5984\n",
      "6171\n",
      "6358\n",
      "6545\n",
      "6732\n",
      "6919\n",
      "7106\n",
      "7293\n",
      "7480\n",
      "7667\n",
      "7854\n",
      "8041\n",
      "8228\n",
      "8415\n",
      "8602\n",
      "8789\n",
      "8976\n",
      "9163\n",
      "9350\n",
      "9537\n",
      "9724\n",
      "9911\n",
      "10098\n",
      "10285\n",
      "10472\n",
      "10659\n",
      "10846\n",
      "11033\n",
      "11220\n",
      "11407\n",
      "11594\n",
      "11781\n",
      "11968\n",
      "12155\n",
      "12342\n",
      "12529\n",
      "12716\n",
      "12903\n",
      "13090\n",
      "13277\n",
      "13464\n",
      "13651\n",
      "13838\n",
      "14025\n",
      "14212\n",
      "14399\n",
      "14586\n",
      "14773\n",
      "14960\n",
      "15147\n",
      "15334\n",
      "15521\n",
      "15708\n",
      "15895\n",
      "16082\n",
      "16269\n",
      "16456\n",
      "16643\n",
      "16830\n"
     ]
    }
   ],
   "source": [
    "# PCA whole path, measure plane in which the\n",
    "# https://arxiv.org/pdf/1306.1629.pdf calculating angles between subspaces\n",
    "full_pca = PCA(n_components=3)\n",
    "full_pca.fit(param_log)\n",
    "\n",
    "total_c0 = full_pca.components_[0]\n",
    "total_c1 = full_pca.components_[1]\n",
    "\n",
    "window_size = len(param_log)//10\n",
    "step = []\n",
    "angles = []\n",
    "for i in range(0, len(param_log) - window_size, len(param_log)//100):\n",
    "    window_pca = PCA(n_components=3)\n",
    "    window_pca.fit(param_log[i : i + window_size])\n",
    "    window_c0 = window_pca.components_[0]\n",
    "    window_c1 = window_pca.components_[1]\n",
    "    \n",
    "    component_0_angle_0 = np.dot(window_c0, total_c0)/(np.linalg.norm(total_c0)*np.linalg.norm(window_c0))\n",
    "    component_0_angle_1 = np.dot(window_c1, total_c1)/(np.linalg.norm(total_c1)*np.linalg.norm(window_c1))\n",
    "    angle = np.arccos(component_0_angle_0 * component_0_angle_1)\n",
    "    angles += [angle]\n",
    "    step += [i + window_size//2]\n"
   ]
  },
  {
   "cell_type": "code",
   "execution_count": 120,
   "metadata": {
    "collapsed": true
   },
   "outputs": [
    {
     "data": {
      "text/plain": [
       "[1.547337642294776,\n",
       " 1.5899008585960723,\n",
       " 1.557726102787795,\n",
       " 1.559888635525719,\n",
       " 1.5599656356808536,\n",
       " 1.5586542919250195,\n",
       " 1.5584465826684004,\n",
       " 1.5847216992980662,\n",
       " 1.5591353837852455,\n",
       " 1.5631496000973364,\n",
       " 1.5660588324390659,\n",
       " 1.5728235453325266,\n",
       " 1.5714736176192283,\n",
       " 1.5731280532161298,\n",
       " 1.5722213836687624,\n",
       " 1.5711598590300744,\n",
       " 1.5712429247681197,\n",
       " 1.566932011158888,\n",
       " 1.5660179575026616,\n",
       " 1.5721188385946172,\n",
       " 1.5674372839710333,\n",
       " 1.5666622486636606,\n",
       " 1.5691495683031977,\n",
       " 1.5665424792011124,\n",
       " 1.5607872537201177,\n",
       " 1.5610315836321733,\n",
       " 1.5766395542111593,\n",
       " 1.5769335954589494,\n",
       " 1.5786645290199313,\n",
       " 1.5795406301375186,\n",
       " 1.5618765191431279,\n",
       " 1.5826005442255446,\n",
       " 1.586909492925807,\n",
       " 1.589029926826898,\n",
       " 1.5528573484341255,\n",
       " 1.5553488941069666,\n",
       " 1.5824861152868455,\n",
       " 1.5811268530357059,\n",
       " 1.5833292564227994,\n",
       " 1.5545754675912893,\n",
       " 1.5890134852431077,\n",
       " 1.5909285042401615,\n",
       " 1.5911330075388503,\n",
       " 1.5539005822222858,\n",
       " 1.557316514831596,\n",
       " 1.5846317673956445,\n",
       " 1.5867521298224068,\n",
       " 1.5885748197196987,\n",
       " 1.5886828006881668,\n",
       " 1.554304440681005,\n",
       " 1.556802492390149,\n",
       " 1.5820191646196375,\n",
       " 1.5791956545103445,\n",
       " 1.5776992823582763,\n",
       " 1.5795363223618608,\n",
       " 1.5809425755230895,\n",
       " 1.5589273439126967,\n",
       " 1.5589085100651683,\n",
       " 1.5596863481141379,\n",
       " 1.5600447387667546,\n",
       " 1.5811163018915804,\n",
       " 1.5780079490935415,\n",
       " 1.5716015536874346,\n",
       " 1.572056791526804,\n",
       " 1.5745154699651014,\n",
       " 1.5589880875181705,\n",
       " 1.5839758608834427,\n",
       " 1.5644509591455116,\n",
       " 1.569197107852731,\n",
       " 1.5736452122845468,\n",
       " 1.5718244474895369,\n",
       " 1.5696921089478435,\n",
       " 1.5656950589145435,\n",
       " 1.5608183992695424,\n",
       " 1.5594842994176823,\n",
       " 1.5780821899060264,\n",
       " 1.5743583773898526,\n",
       " 1.5742910398861414,\n",
       " 1.5757532274268835,\n",
       " 1.565955760526563,\n",
       " 1.5749484694252978,\n",
       " 1.5639330402759324,\n",
       " 1.560499714516821,\n",
       " 1.5810606238283342,\n",
       " 1.5768914555887148,\n",
       " 1.5755024317585453,\n",
       " 1.563707163416481,\n",
       " 1.5601227334043928,\n",
       " 1.583347557037135,\n",
       " 1.5825253466598868,\n",
       " 1.5610801214557832]"
      ]
     },
     "execution_count": 120,
     "metadata": {},
     "output_type": "execute_result"
    }
   ],
   "source": [
    "angles"
   ]
  },
  {
   "cell_type": "code",
   "execution_count": 12,
   "metadata": {
    "collapsed": false
   },
   "outputs": [],
   "source": [
    "### Can we project the parameter decent path onto a lower dimensional subspace and study how much it diverges?"
   ]
  },
  {
   "cell_type": "code",
   "execution_count": 13,
   "metadata": {
    "collapsed": false
   },
   "outputs": [],
   "source": [
    "all_updates_pca = PCA(n_components=2)\n",
    "transformed_2d = all_updates_pca.fit_transform(param_log)"
   ]
  },
  {
   "cell_type": "code",
   "execution_count": 14,
   "metadata": {
    "collapsed": false
   },
   "outputs": [
    {
     "data": {
      "text/plain": [
       "array([[ 2.65499512,  0.73519881],\n",
       "       [ 2.65461691,  0.73486847],\n",
       "       [ 2.65425996,  0.73478764],\n",
       "       ...,\n",
       "       [-1.96429538,  0.58563451],\n",
       "       [-1.96484948,  0.58550663],\n",
       "       [-1.96528325,  0.58548211]])"
      ]
     },
     "execution_count": 14,
     "metadata": {},
     "output_type": "execute_result"
    }
   ],
   "source": [
    "transformed_2d"
   ]
  },
  {
   "cell_type": "code",
   "execution_count": 17,
   "metadata": {
    "collapsed": false
   },
   "outputs": [
    {
     "data": {
      "image/png": "[encoded data removed]",
      "text/plain": [
       "<matplotlib.figure.Figure at 0x1427393c8>"
      ]
     },
     "metadata": {},
     "output_type": "display_data"
    }
   ],
   "source": [
    "plt.plot(transformed_2d[:,0], transformed_2d[:,1])\n",
    "plt.show()\n",
    "#2D projection of gradient descent pathway"
   ]
  },
  {
   "cell_type": "code",
   "execution_count": 18,
   "metadata": {
    "collapsed": false
   },
   "outputs": [],
   "source": [
    "projected_data_in_original_space = all_updates_pca.inverse_transform(transformed_2d)\n",
    "deltas = projected_data_in_original_space - param_log\n",
    "errors = np.linalg.norm(deltas, axis=1)"
   ]
  },
  {
   "cell_type": "code",
   "execution_count": 19,
   "metadata": {
    "collapsed": false
   },
   "outputs": [
    {
     "data": {
      "image/png": "[encoded data removed]",
      "text/plain": [
       "<matplotlib.figure.Figure at 0x1161aeac8>"
      ]
     },
     "metadata": {},
     "output_type": "display_data"
    }
   ],
   "source": [
    "plt.plot(errors)\n",
    "plt.show()\n",
    "#this is the plot of error of the true decent path from the PCA projected decent path"
   ]
  },
  {
   "cell_type": "code",
   "execution_count": 25,
   "metadata": {
    "collapsed": false
   },
   "outputs": [
    {
     "data": {
      "image/png": "[encoded data removed]",
      "text/plain": [
       "<matplotlib.figure.Figure at 0x191f36ef0>"
      ]
     },
     "metadata": {},
     "output_type": "display_data"
    }
   ],
   "source": [
    "#Now going to repeat the above for 1 and 3 dimensions\n",
    "# 1D\n",
    "all_updates_pca = PCA(n_components=1)\n",
    "transformed = all_updates_pca.fit_transform(param_log)\n",
    "projected_data_in_original_space = all_updates_pca.inverse_transform(transformed)\n",
    "deltas = projected_data_in_original_space - param_log\n",
    "errors = np.linalg.norm(deltas, axis=1)\n",
    "plt.plot(errors)\n",
    "plt.show()"
   ]
  },
  {
   "cell_type": "code",
   "execution_count": 26,
   "metadata": {
    "collapsed": false
   },
   "outputs": [
    {
     "data": {
      "image/png": "[encoded data removed]",
      "text/plain": [
       "<matplotlib.figure.Figure at 0x191f3b0f0>"
      ]
     },
     "metadata": {},
     "output_type": "display_data"
    }
   ],
   "source": [
    "# 3D\n",
    "# This is really interesting... the # of oscillations we get in this error graph seems to be equal to the number of \n",
    "# PCA Components we have... perhaps it's because our path 'bends' through a much higher dimensional space, and as it begins\n",
    "# to 'curve out of' one subspace and 'go toward' another subspace, we have an oscillation in error? After the path \n",
    "# goes through N subspaces, then it can't oscillate anymore, and the error simply grows?\n",
    "\n",
    "all_updates_pca = PCA(n_components=3)\n",
    "transformed = all_updates_pca.fit_transform(param_log)\n",
    "projected_data_in_original_space = all_updates_pca.inverse_transform(transformed)\n",
    "deltas = projected_data_in_original_space - param_log\n",
    "errors = np.linalg.norm(deltas, axis=1)\n",
    "plt.plot(errors)\n",
    "plt.show()\n"
   ]
  },
  {
   "cell_type": "code",
   "execution_count": null,
   "metadata": {
    "collapsed": false
   },
   "outputs": [],
   "source": [
    "# Now going to fit a PCA to the first half of the gradient descent pathway in 2D\n",
    "# And then project the second half of our descent pathway onto our 2d subspace, and measure error on that\n"
   ]
  },
  {
   "cell_type": "code",
   "execution_count": 29,
   "metadata": {
    "collapsed": false
   },
   "outputs": [
    {
     "data": {
      "image/png": "[encoded data removed]",
      "text/plain": [
       "<matplotlib.figure.Figure at 0x116694128>"
      ]
     },
     "metadata": {},
     "output_type": "display_data"
    }
   ],
   "source": [
    "half_updates_pca = PCA(n_components=2)\n",
    "transformed_fitted = half_updates_pca.fit_transform(param_log[:param_log.shape[0]//2])\n",
    "transformed_unfitted = half_updates_pca.transform(param_log[param_log.shape[0]//2:])\n",
    "projected_fitted_data_in_original_space = half_updates_pca.inverse_transform(transformed_fitted)\n",
    "projected_unfitted_data_in_original_space = half_updates_pca.inverse_transform(transformed_unfitted)\n",
    "deltas = np.concatenate((projected_fitted_data_in_original_space, projected_unfitted_data_in_original_space)) - param_log \n",
    "errors = np.linalg.norm(deltas, axis=1)\n",
    "plt.plot(errors)\n",
    "plt.show()\n"
   ]
  },
  {
   "cell_type": "code",
   "execution_count": 30,
   "metadata": {
    "collapsed": false
   },
   "outputs": [
    {
     "data": {
      "image/png": "[encoded data removed]",
      "text/plain": [
       "<matplotlib.figure.Figure at 0x116563710>"
      ]
     },
     "metadata": {},
     "output_type": "display_data"
    }
   ],
   "source": [
    "half_updates_pca = PCA(n_components=5)\n",
    "transformed_fitted = half_updates_pca.fit_transform(param_log[:param_log.shape[0]//2])\n",
    "transformed_unfitted = half_updates_pca.transform(param_log[param_log.shape[0]//2:])\n",
    "projected_fitted_data_in_original_space = half_updates_pca.inverse_transform(transformed_fitted)\n",
    "projected_unfitted_data_in_original_space = half_updates_pca.inverse_transform(transformed_unfitted)\n",
    "deltas = np.concatenate((projected_fitted_data_in_original_space, projected_unfitted_data_in_original_space)) - param_log \n",
    "errors = np.linalg.norm(deltas, axis=1)\n",
    "plt.plot(errors)\n",
    "plt.show()\n"
   ]
  },
  {
   "cell_type": "code",
   "execution_count": 31,
   "metadata": {
    "collapsed": false
   },
   "outputs": [
    {
     "data": {
      "image/png": "[encoded data removed]",
      "text/plain": [
       "<matplotlib.figure.Figure at 0x193505be0>"
      ]
     },
     "metadata": {},
     "output_type": "display_data"
    }
   ],
   "source": [
    "# What if we fit to an even earlier segment of the data?\n",
    "\n",
    "half_updates_pca = PCA(n_components=2)\n",
    "transformed_fitted = half_updates_pca.fit_transform(param_log[:param_log.shape[0]//10])\n",
    "transformed_unfitted = half_updates_pca.transform(param_log[param_log.shape[0]//10:])\n",
    "projected_fitted_data_in_original_space = half_updates_pca.inverse_transform(transformed_fitted)\n",
    "projected_unfitted_data_in_original_space = half_updates_pca.inverse_transform(transformed_unfitted)\n",
    "deltas = np.concatenate((projected_fitted_data_in_original_space, projected_unfitted_data_in_original_space)) - param_log \n",
    "errors = np.linalg.norm(deltas, axis=1)\n",
    "plt.plot(errors)\n",
    "plt.show()\n"
   ]
  },
  {
   "cell_type": "code",
   "execution_count": 32,
   "metadata": {
    "collapsed": false
   },
   "outputs": [
    {
     "data": {
      "text/plain": [
       "4.778864673633052"
      ]
     },
     "execution_count": 32,
     "metadata": {},
     "output_type": "execute_result"
    }
   ],
   "source": [
    "# What is the magnitude of error between the first and last parameter setting of the neural network?\n",
    "np.linalg.norm(param_log[-1] - param_log[0])"
   ]
  },
  {
   "cell_type": "code",
   "execution_count": 33,
   "metadata": {
    "collapsed": false
   },
   "outputs": [
    {
     "data": {
      "image/png": "[encoded data removed]",
      "text/plain": [
       "<matplotlib.figure.Figure at 0x193514278>"
      ]
     },
     "metadata": {},
     "output_type": "display_data"
    }
   ],
   "source": [
    "# What is the magnitude of error between the ith and last parameter setting of the network\n",
    "errors = []\n",
    "for i in range(param_log.shape[0]):\n",
    "    errors += [np.linalg.norm(param_log[-1] - param_log[i])]\n",
    "plt.plot(errors)\n",
    "plt.show()"
   ]
  },
  {
   "cell_type": "code",
   "execution_count": null,
   "metadata": {
    "collapsed": true
   },
   "outputs": [],
   "source": []
  }
 ],
 "metadata": {
  "kernelspec": {
   "display_name": "Python 3",
   "language": "python",
   "name": "python3"
  },
  "language_info": {
   "codemirror_mode": {
    "name": "ipython",
    "version": 3
   },
   "file_extension": ".py",
   "mimetype": "text/x-python",
   "name": "python",
   "nbconvert_exporter": "python",
   "pygments_lexer": "ipython3",
   "version": "3.5.2"
  }
 },
 "nbformat": 4,
 "nbformat_minor": 2
}
